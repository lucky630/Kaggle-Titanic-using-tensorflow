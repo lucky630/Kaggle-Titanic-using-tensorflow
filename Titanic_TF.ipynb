{
 "cells": [
  {
   "cell_type": "code",
   "execution_count": 1,
   "metadata": {
    "collapsed": true
   },
   "outputs": [],
   "source": [
    "%matplotlib inline\n",
    "import gym\n",
    "import os\n",
    "import numpy as np\n",
    "import tensorflow as tf\n",
    "import pandas as pd\n",
    "import matplotlib.pyplot as plt"
   ]
  },
  {
   "cell_type": "code",
   "execution_count": 2,
   "metadata": {
    "collapsed": true
   },
   "outputs": [],
   "source": [
    "os.chdir('C:\\\\Users\\\\royal\\\\Downloads\\\\Compressed\\\\titanic')"
   ]
  },
  {
   "cell_type": "markdown",
   "metadata": {},
   "source": [
    "declare the constants using the tf.constant()"
   ]
  },
  {
   "cell_type": "code",
   "execution_count": 46,
   "metadata": {
    "collapsed": true
   },
   "outputs": [],
   "source": [
    "train=pd.read_csv('train1.csv')"
   ]
  },
  {
   "cell_type": "code",
   "execution_count": 47,
   "metadata": {},
   "outputs": [
    {
     "data": {
      "text/plain": [
       "array([1, 2, 3], dtype=int64)"
      ]
     },
     "execution_count": 47,
     "metadata": {},
     "output_type": "execute_result"
    }
   ],
   "source": [
    "train['Embarked'].unique()"
   ]
  },
  {
   "cell_type": "code",
   "execution_count": 48,
   "metadata": {},
   "outputs": [
    {
     "data": {
      "text/plain": [
       "891"
      ]
     },
     "execution_count": 48,
     "metadata": {},
     "output_type": "execute_result"
    }
   ],
   "source": [
    "##549 not survived and 342 survived.\n",
    "#train['Survived'].value_counts()\n",
    "train[0:5]\n",
    "len(train)"
   ]
  },
  {
   "cell_type": "code",
   "execution_count": 49,
   "metadata": {
    "collapsed": true
   },
   "outputs": [],
   "source": [
    "train.columns\n",
    "sur=train['Survived']\n",
    "train=train.drop(['Survived'],axis=1)\n",
    "train=train.drop(['Embarked'],axis=1)"
   ]
  },
  {
   "cell_type": "code",
   "execution_count": 50,
   "metadata": {
    "collapsed": true
   },
   "outputs": [],
   "source": [
    "test=train[600:891]\n",
    "train=train[0:600]"
   ]
  },
  {
   "cell_type": "code",
   "execution_count": 51,
   "metadata": {},
   "outputs": [
    {
     "name": "stdout",
     "output_type": "stream",
     "text": [
      "[[1, 0], [0, 1], [0, 1], [0, 1], [1, 0]]\n"
     ]
    }
   ],
   "source": [
    "ls=[]\n",
    "for i in sur:\n",
    "    if i==0:\n",
    "        ls.append([1,0])\n",
    "    else:\n",
    "        ls.append([0,1])\n",
    "print(ls[0:5])"
   ]
  },
  {
   "cell_type": "code",
   "execution_count": 52,
   "metadata": {
    "collapsed": true
   },
   "outputs": [],
   "source": [
    "train_ls=ls[0:600]\n",
    "teest_ls=ls[600:891]"
   ]
  },
  {
   "cell_type": "code",
   "execution_count": 53,
   "metadata": {},
   "outputs": [
    {
     "name": "stdout",
     "output_type": "stream",
     "text": [
      "[[  3.     1.    22.     1.     0.     7.25   2.     0.  ]]\n",
      "[[0]]\n",
      "0    0\n",
      "Name: Survived, dtype: int64\n"
     ]
    }
   ],
   "source": [
    "\n",
    "print(train[0:1].values)\n",
    "print(sur[0:1].values.reshape(1,1))\n",
    "\n",
    "print(sur[0:1])"
   ]
  },
  {
   "cell_type": "markdown",
   "metadata": {},
   "source": [
    "epochs = feed forward + backpropagation\n",
    "\n",
    "batch_size= images load from total set in batch of 100."
   ]
  },
  {
   "cell_type": "code",
   "execution_count": 67,
   "metadata": {
    "collapsed": true
   },
   "outputs": [],
   "source": [
    "nodes_hl1=10\n",
    "nodes_hl2=10\n",
    "nodes_hl3=10\n",
    "n_classes=2"
   ]
  },
  {
   "cell_type": "code",
   "execution_count": 68,
   "metadata": {
    "collapsed": true
   },
   "outputs": [],
   "source": [
    "x=tf.placeholder('float',[None,8])\n",
    "y=tf.placeholder('float')\n"
   ]
  },
  {
   "cell_type": "code",
   "execution_count": 69,
   "metadata": {
    "collapsed": true
   },
   "outputs": [],
   "source": [
    "def neural_network_model(data):\n",
    "    hidden_1_layer={'weights':tf.Variable(tf.random_normal([8,nodes_hl1])),\n",
    "                   'biases':tf.Variable(tf.random_normal([nodes_hl1]))}\n",
    "    \n",
    "    hidden_2_layer={'weights':tf.Variable(tf.random_normal([nodes_hl1,nodes_hl2])),\n",
    "                   'biases':tf.Variable(tf.random_normal([nodes_hl2]))}\n",
    "    \n",
    "    hidden_3_layer={'weights':tf.Variable(tf.random_normal([nodes_hl2,nodes_hl3])),\n",
    "                   'biases':tf.Variable(tf.random_normal([nodes_hl3]))}\n",
    "    \n",
    "    final_layer={'weights':tf.Variable(tf.random_normal([nodes_hl3,n_classes])),\n",
    "                'biases':tf.Variable(tf.random_normal([n_classes]))}\n",
    "    \n",
    "    layer1 = tf.add(tf.matmul(data,hidden_1_layer['weights']),hidden_1_layer['biases'])\n",
    "    layer1 = tf.nn.relu(layer1)\n",
    "    \n",
    "    layer2 = tf.add(tf.matmul(layer1,hidden_2_layer['weights']),hidden_2_layer['biases'])\n",
    "    layer2 = tf.nn.relu(layer2)\n",
    "    \n",
    "    layer3 = tf.add(tf.matmul(layer2,hidden_3_layer['weights']),hidden_3_layer['biases'])\n",
    "    layer3 = tf.nn.relu(layer3)\n",
    "    \n",
    "    output=tf.matmul(layer3,final_layer['weights']) + final_layer['biases']\n",
    "    \n",
    "    return output"
   ]
  },
  {
   "cell_type": "code",
   "execution_count": 70,
   "metadata": {
    "collapsed": true
   },
   "outputs": [],
   "source": [
    "epoch_loss1=[]\n",
    "def train_neural_network(x):\n",
    "    ##this prediction is the output from our neural network\n",
    "    prediction = neural_network_model(x)\n",
    "    \n",
    "    cost =  tf.reduce_mean(tf.nn.softmax_cross_entropy_with_logits(logits=prediction,labels=y))\n",
    "    \n",
    "    optimizer=tf.train.AdamOptimizer(learning_rate=0.001).minimize(cost)\n",
    "    \n",
    "    hm_epochs=20\n",
    "    with tf.Session() as sess:\n",
    "        sess.run(tf.global_variables_initializer())\n",
    "        \n",
    "        for epoch in range(hm_epochs):\n",
    "            epoch_loss=0\n",
    "            for i in range(1,len(train)):\n",
    "                epoch_x = train[i-1:i].values\n",
    "                epoch_y = train_ls[i]\n",
    "                #print(epoch_x)\n",
    "                #print(epoch_y)\n",
    "                i,c=sess.run([optimizer,cost],feed_dict={x:epoch_x,y:epoch_y})\n",
    "                epoch_loss+=c\n",
    "            print('epoch is %s completed  out of %s loss %s' % (epoch,hm_epochs,epoch_loss ))\n",
    "            epoch_loss1.append(epoch_loss)\n",
    "        \n",
    "        correct=tf.equal(tf.argmax(prediction,1),tf.argmax(y,1))\n",
    "        \n",
    "        accuracy=tf.reduce_mean(tf.cast(correct,'float'))\n",
    "        \n",
    "        print('accuracy is %s' % (accuracy.eval({x:test,y:teest_ls})))"
   ]
  },
  {
   "cell_type": "code",
   "execution_count": 71,
   "metadata": {},
   "outputs": [
    {
     "name": "stdout",
     "output_type": "stream",
     "text": [
      "epoch is 0 completed  out of 20 loss 30233.7386643\n",
      "epoch is 1 completed  out of 20 loss 5303.6912218\n",
      "epoch is 2 completed  out of 20 loss 2441.9417253\n",
      "epoch is 3 completed  out of 20 loss 1494.67704554\n",
      "epoch is 4 completed  out of 20 loss 1177.4188573\n",
      "epoch is 5 completed  out of 20 loss 1112.48362385\n",
      "epoch is 6 completed  out of 20 loss 944.762983632\n",
      "epoch is 7 completed  out of 20 loss 980.823152203\n",
      "epoch is 8 completed  out of 20 loss 806.684186455\n",
      "epoch is 9 completed  out of 20 loss 990.102823753\n",
      "epoch is 10 completed  out of 20 loss 905.910661086\n",
      "epoch is 11 completed  out of 20 loss 731.314659297\n",
      "epoch is 12 completed  out of 20 loss 892.706777728\n",
      "epoch is 13 completed  out of 20 loss 677.864974133\n",
      "epoch is 14 completed  out of 20 loss 693.991009957\n",
      "epoch is 15 completed  out of 20 loss 654.618118455\n",
      "epoch is 16 completed  out of 20 loss 665.379615282\n",
      "epoch is 17 completed  out of 20 loss 631.429624861\n",
      "epoch is 18 completed  out of 20 loss 624.977210463\n",
      "epoch is 19 completed  out of 20 loss 629.829777465\n",
      "accuracy is 0.621993\n"
     ]
    }
   ],
   "source": [
    "train_neural_network(x)"
   ]
  },
  {
   "cell_type": "code",
   "execution_count": 72,
   "metadata": {},
   "outputs": [
    {
     "data": {
      "image/png": "[encoded data removed]",
      "text/plain": [
       "<matplotlib.figure.Figure at 0xe234940>"
      ]
     },
     "metadata": {},
     "output_type": "display_data"
    }
   ],
   "source": [
    "plt.plot(epoch_loss1)\n",
    "plt.show()"
   ]
  }
 ],
 "metadata": {
  "kernelspec": {
   "display_name": "Python 3",
   "language": "python",
   "name": "python3"
  },
  "language_info": {
   "codemirror_mode": {
    "name": "ipython",
    "version": 3
   },
   "file_extension": ".py",
   "mimetype": "text/x-python",
   "name": "python",
   "nbconvert_exporter": "python",
   "pygments_lexer": "ipython3",
   "version": "3.6.1"
  }
 },
 "nbformat": 4,
 "nbformat_minor": 2
}
